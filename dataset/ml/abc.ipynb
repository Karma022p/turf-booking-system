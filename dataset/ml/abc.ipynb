{
 "cells": [
  {
   "cell_type": "code",
   "execution_count": 2,
   "metadata": {},
   "outputs": [
    {
     "name": "stdout",
     "output_type": "stream",
     "text": [
      "Mean Absolute Error: 49.52\n",
      "Predicted Price Per Hour: 1081.0\n"
     ]
    }
   ],
   "source": [
    "import pandas as pd\n",
    "import numpy as np\n",
    "import joblib\n",
    "from sklearn.model_selection import train_test_split\n",
    "from sklearn.preprocessing import LabelEncoder\n",
    "from sklearn.ensemble import RandomForestRegressor\n",
    "from sklearn.metrics import mean_absolute_error\n",
    "\n",
    "# Load dataset\n",
    "data = pd.read_csv('turf_price_dataset.csv')  # Replace with your actual CSV file\n",
    "\n",
    "# Encode categorical variables\n",
    "label_encoders = {}\n",
    "categorical_cols = ['Day Time', 'Season', 'Time Slot', 'Weather', 'Day Type', 'Special Event', 'Turf Quality']\n",
    "\n",
    "for col in categorical_cols:\n",
    "    le = LabelEncoder()\n",
    "    data[col] = le.fit_transform(data[col])\n",
    "    label_encoders[col] = le  # Store label encoders for later use\n",
    "\n",
    "# Define features and target\n",
    "X = data.drop(columns=['Price Per Hour'])\n",
    "y = data['Price Per Hour']\n",
    "\n",
    "# Split the dataset\n",
    "X_train, X_test, y_train, y_test = train_test_split(X, y, test_size=0.2, random_state=42)\n",
    "\n",
    "# Train model\n",
    "model = RandomForestRegressor(n_estimators=100, random_state=42)\n",
    "model.fit(X_train, y_train)\n",
    "\n",
    "# Evaluate model\n",
    "y_pred = model.predict(X_test)\n",
    "mae = mean_absolute_error(y_test, y_pred)\n",
    "print(f'Mean Absolute Error: {mae}')\n",
    "\n",
    "# Save model and encoders\n",
    "joblib.dump(model, 'price_prediction_model.pkl')\n",
    "joblib.dump(label_encoders, 'label_encoders.pkl')\n",
    "\n",
    "# Function to predict price per hour\n",
    "def predict_price():\n",
    "    # Load model and encoders\n",
    "    model = joblib.load('price_prediction_model.pkl')\n",
    "    label_encoders = joblib.load('label_encoders.pkl')\n",
    "    \n",
    "    # Take user input\n",
    "    user_input = {}\n",
    "    user_input['Day Time'] = input(\"Enter Day Time (Evening, Afternoon, Morning, Night): \")\n",
    "    user_input['Season'] = input(\"Enter Season (Off-peak, Peak): \")\n",
    "    user_input['Time Slot'] = input(\"Enter Time Slot (e.g., '9 AM - 12 PM', '12 PM - 3 PM'): \")\n",
    "    user_input['Weather'] = input(\"Enter Weather (Clear, Stormy, Rainy, Cloudy): \")\n",
    "    user_input['Day Type'] = input(\"Enter Day Type (Weekday, Weekend): \")\n",
    "    user_input['Special Event'] = input(\"Is there a Special Event? (Yes, No): \")\n",
    "    user_input['Turf Quality'] = input(\"Enter Turf Quality (Standard, Basic, Premium): \")\n",
    "    user_input['Location Demand'] = int(input(\"Enter Location Demand (1-10): \"))\n",
    "    \n",
    "    # Encode categorical values\n",
    "    for col in categorical_cols:\n",
    "        if user_input[col] in label_encoders[col].classes_:\n",
    "            user_input[col] = label_encoders[col].transform([user_input[col]])[0]\n",
    "        else:\n",
    "            print(f\"Invalid input for {col}. Exiting.\")\n",
    "            return\n",
    "    \n",
    "    # Convert to DataFrame\n",
    "    input_df = pd.DataFrame([user_input])\n",
    "    \n",
    "    # Predict price\n",
    "    predicted_price = model.predict(input_df)[0]\n",
    "    print(f'Predicted Price Per Hour: {predicted_price}')\n",
    "\n",
    "# Run manual input function\n",
    "if __name__ == '__main__':\n",
    "    predict_price()"
   ]
  }
 ],
 "metadata": {
  "kernelspec": {
   "display_name": "Python 3",
   "language": "python",
   "name": "python3"
  },
  "language_info": {
   "codemirror_mode": {
    "name": "ipython",
    "version": 3
   },
   "file_extension": ".py",
   "mimetype": "text/x-python",
   "name": "python",
   "nbconvert_exporter": "python",
   "pygments_lexer": "ipython3",
   "version": "3.10.0"
  }
 },
 "nbformat": 4,
 "nbformat_minor": 2
}
